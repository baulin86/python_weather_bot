{
 "cells": [
  {
   "cell_type": "code",
   "execution_count": 3,
   "id": "f4f0469f",
   "metadata": {},
   "outputs": [],
   "source": [
    "from config import WTH_TOKEN as TOKEN\n",
    "import requests"
   ]
  },
  {
   "cell_type": "code",
   "execution_count": 24,
   "id": "a441018a",
   "metadata": {},
   "outputs": [],
   "source": [
    "BASE_URL = 'https://api.openweathermap.org/data/2.5/weather'\n",
    "\n",
    "def get_weather(latitude, longitude, lang):\n",
    "    params = {'lat':latitude, 'lon':longitude, 'units':'metric', \n",
    "              'lang':lang, 'appid':TOKEN}\n",
    "    \n",
    "    response = requests.get(BASE_URL, params = params)\n",
    "    data = response.json()\n",
    "#     print(data)\n",
    "    description = data['weather'][0]['description']\n",
    "    temp = data['main']['temp']\n",
    "    wind = data['wind']['speed']\n",
    "    wind_deg = data['wind']['deg']\n",
    "    icon = data['weather'][0]['icon']\n",
    "    city = data['name']\n",
    "    \n",
    "#     if wind_deg \n",
    "    return description,temp,wind,city,icon\n",
    "\n",
    "def get_coordinate(city):\n",
    "    URL = 'http://api.openweathermap.org/geo/1.0/direct'\n",
    "    \n",
    "    params = {'q': city, 'limit': 5,'appid': TOKEN}\n",
    "    response = requests.get(URL, params = params)\n",
    "    data = response.json()\n",
    "    if data:\n",
    "        latitude = data[0]['lat']\n",
    "        longitude = data[0]['lon']\n",
    "        return latitude, longitude\n",
    "    else:\n",
    "        return false\n",
    "    \n",
    "def get_icon(icon):\n",
    "    BASE_URL = 'https://openweathermap.org/img/wn'\n",
    "    url = f'{BASE_URL}/{icon}.png'\n",
    "    response = requests.get(url)\n",
    "    data = response.content\n",
    "    image = open(data, 'rb')\n",
    "    print(image)\n",
    "#     return n\n",
    "\n",
    "\n",
    "    "
   ]
  },
  {
   "cell_type": "code",
   "execution_count": 25,
   "id": "ca317086",
   "metadata": {},
   "outputs": [
    {
     "ename": "UnicodeDecodeError",
     "evalue": "'utf-8' codec can't decode byte 0x89 in position 0: invalid start byte",
     "output_type": "error",
     "traceback": [
      "\u001b[1;31m---------------------------------------------------------------------------\u001b[0m",
      "\u001b[1;31mUnicodeDecodeError\u001b[0m                        Traceback (most recent call last)",
      "Cell \u001b[1;32mIn[25], line 4\u001b[0m\n\u001b[0;32m      1\u001b[0m \u001b[38;5;66;03m# get_weather(55.702827, 37.943124, 'ru')\u001b[39;00m\n\u001b[0;32m      2\u001b[0m \u001b[38;5;66;03m# # get_coordinate('Москва')\u001b[39;00m\n\u001b[0;32m      3\u001b[0m \u001b[38;5;66;03m# # get_coordinate('Москва')\u001b[39;00m\n\u001b[1;32m----> 4\u001b[0m \u001b[43mget_icon\u001b[49m\u001b[43m(\u001b[49m\u001b[38;5;124;43m'\u001b[39;49m\u001b[38;5;124;43m01d\u001b[39;49m\u001b[38;5;124;43m'\u001b[39;49m\u001b[43m)\u001b[49m\n",
      "Cell \u001b[1;32mIn[24], line 38\u001b[0m, in \u001b[0;36mget_icon\u001b[1;34m(icon)\u001b[0m\n\u001b[0;32m     36\u001b[0m response \u001b[38;5;241m=\u001b[39m requests\u001b[38;5;241m.\u001b[39mget(url)\n\u001b[0;32m     37\u001b[0m data \u001b[38;5;241m=\u001b[39m response\u001b[38;5;241m.\u001b[39mcontent\n\u001b[1;32m---> 38\u001b[0m image \u001b[38;5;241m=\u001b[39m \u001b[38;5;28;43mopen\u001b[39;49m\u001b[43m(\u001b[49m\u001b[43mdata\u001b[49m\u001b[43m,\u001b[49m\u001b[43m \u001b[49m\u001b[38;5;124;43m'\u001b[39;49m\u001b[38;5;124;43mrb\u001b[39;49m\u001b[38;5;124;43m'\u001b[39;49m\u001b[43m)\u001b[49m\n\u001b[0;32m     39\u001b[0m \u001b[38;5;28mprint\u001b[39m(image)\n",
      "File \u001b[1;32mC:\\ProgramData\\anaconda3\\lib\\site-packages\\IPython\\core\\interactiveshell.py:282\u001b[0m, in \u001b[0;36m_modified_open\u001b[1;34m(file, *args, **kwargs)\u001b[0m\n\u001b[0;32m    275\u001b[0m \u001b[38;5;28;01mif\u001b[39;00m file \u001b[38;5;129;01min\u001b[39;00m {\u001b[38;5;241m0\u001b[39m, \u001b[38;5;241m1\u001b[39m, \u001b[38;5;241m2\u001b[39m}:\n\u001b[0;32m    276\u001b[0m     \u001b[38;5;28;01mraise\u001b[39;00m \u001b[38;5;167;01mValueError\u001b[39;00m(\n\u001b[0;32m    277\u001b[0m         \u001b[38;5;124mf\u001b[39m\u001b[38;5;124m\"\u001b[39m\u001b[38;5;124mIPython won\u001b[39m\u001b[38;5;124m'\u001b[39m\u001b[38;5;124mt let you open fd=\u001b[39m\u001b[38;5;132;01m{\u001b[39;00mfile\u001b[38;5;132;01m}\u001b[39;00m\u001b[38;5;124m by default \u001b[39m\u001b[38;5;124m\"\u001b[39m\n\u001b[0;32m    278\u001b[0m         \u001b[38;5;124m\"\u001b[39m\u001b[38;5;124mas it is likely to crash IPython. If you know what you are doing, \u001b[39m\u001b[38;5;124m\"\u001b[39m\n\u001b[0;32m    279\u001b[0m         \u001b[38;5;124m\"\u001b[39m\u001b[38;5;124myou can use builtins\u001b[39m\u001b[38;5;124m'\u001b[39m\u001b[38;5;124m open.\u001b[39m\u001b[38;5;124m\"\u001b[39m\n\u001b[0;32m    280\u001b[0m     )\n\u001b[1;32m--> 282\u001b[0m \u001b[38;5;28;01mreturn\u001b[39;00m io_open(file, \u001b[38;5;241m*\u001b[39margs, \u001b[38;5;241m*\u001b[39m\u001b[38;5;241m*\u001b[39mkwargs)\n",
      "\u001b[1;31mUnicodeDecodeError\u001b[0m: 'utf-8' codec can't decode byte 0x89 in position 0: invalid start byte"
     ]
    }
   ],
   "source": [
    "# get_weather(55.702827, 37.943124, 'ru')\n",
    "# # get_coordinate('Москва')\n",
    "# # get_coordinate('Москва')\n",
    "get_icon('01d')"
   ]
  }
 ],
 "metadata": {
  "kernelspec": {
   "display_name": "Python 3 (ipykernel)",
   "language": "python",
   "name": "python3"
  },
  "language_info": {
   "codemirror_mode": {
    "name": "ipython",
    "version": 3
   },
   "file_extension": ".py",
   "mimetype": "text/x-python",
   "name": "python",
   "nbconvert_exporter": "python",
   "pygments_lexer": "ipython3",
   "version": "3.10.9"
  }
 },
 "nbformat": 4,
 "nbformat_minor": 5
}
