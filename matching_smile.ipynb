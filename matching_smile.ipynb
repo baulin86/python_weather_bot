{
 "cells": [
  {
   "cell_type": "code",
   "execution_count": null,
   "id": "0f28ba8e",
   "metadata": {},
   "outputs": [],
   "source": [
    "def matchig_weather(code):\n",
    "    if code == '01d'or code == '01n':\n",
    "        return '☀️y' \n",
    "    elif code == '02d'or code == '02n':\n",
    "        return '🌤'\n",
    "    elif code == '03d'or code == '03n':\n",
    "        return '🌥'\n",
    "    elif code == '04d'or code == '04n':\n",
    "        return '☁️'\n",
    "    elif code == '09d'or code == '09n':\n",
    "        return '🌧'\n",
    "    elif code == '10d'or code == '10n':\n",
    "        return '🌦'\n",
    "    elif code == '11d'or code == '11n':\n",
    "        return '🌩'\n",
    "    elif code == '13d'or code == '13n':\n",
    "        return '❄️'\n",
    "    elif code == '50d'or code == '50n':\n",
    "        return '💨'\n",
    "    else:\n",
    "        return '🤷‍♂️'"
   ]
  },
  {
   "cell_type": "code",
   "execution_count": 1,
   "id": "1ba2c138",
   "metadata": {},
   "outputs": [],
   "source": [
    "def mathing_wind(direction):\n",
    "    if direction > 337.5 or direction <= 22.5:\n",
    "        return '⬆️'\n",
    "    elif 22.5 < direction <= 67.5:\n",
    "        return '↗️'\n",
    "    elif 67.5 < direction <= 112.5:\n",
    "        return '➡️'\n",
    "    elif 112.5 < direction <= 177.5:\n",
    "        return '↘️'\n",
    "    elif 177.5 < direction <= 202.5:\n",
    "        return '⬇️'\n",
    "    elif 202.5 < direction <= 247.5:\n",
    "        return '↙️'\n",
    "    elif 247.5 < direction <= 292.5:\n",
    "        return '⬅️'\n",
    "    elif 292.5 < direction <= 337.5:\n",
    "        return '↖️'"
   ]
  },
  {
   "cell_type": "code",
   "execution_count": 2,
   "id": "eb519954",
   "metadata": {},
   "outputs": [
    {
     "data": {
      "text/plain": [
       "'⬆️'"
      ]
     },
     "execution_count": 2,
     "metadata": {},
     "output_type": "execute_result"
    }
   ],
   "source": [
    "mathing_wind(0)"
   ]
  }
 ],
 "metadata": {
  "kernelspec": {
   "display_name": "Python 3 (ipykernel)",
   "language": "python",
   "name": "python3"
  },
  "language_info": {
   "codemirror_mode": {
    "name": "ipython",
    "version": 3
   },
   "file_extension": ".py",
   "mimetype": "text/x-python",
   "name": "python",
   "nbconvert_exporter": "python",
   "pygments_lexer": "ipython3",
   "version": "3.10.9"
  }
 },
 "nbformat": 4,
 "nbformat_minor": 5
}
